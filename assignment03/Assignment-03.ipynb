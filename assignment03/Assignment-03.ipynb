{
 "cells": [
  {
   "cell_type": "markdown",
   "metadata": {},
   "source": [
    "## Assignment-03 First Step of Machine Learning: Model and Evaluation"
   ]
  },
  {
   "cell_type": "markdown",
   "metadata": {},
   "source": [
    "同学们，今天我们的学习了基本的机器学习概念，相比你已经对机器学习的这些方法有一个基本的认识了。值得说明的是，机器学习不仅仅是一系列方法，更重要的是一种思维体系，即：依据以往的、现有的数据，构建某种方法来解决未见过的问题。而且决策树，贝叶斯只是实现这个目标的一个方法，包括之后的神经网络。很有可能有一天，神经网络也会被淘汰，但是重要的是我们要理解机器学习的目标，就是尽可能的自动化解决未知的问题。"
   ]
  },
  {
   "cell_type": "markdown",
   "metadata": {},
   "source": [
    "![](https://timgsa.baidu.com/timg?image&quality=80&size=b9999_10000&sec=1571556399207&di=4a97dc15ad08dd49d3748d1edf6109b3&imgtype=0&src=http%3A%2F%2Fc.hiphotos.baidu.com%2Fzhidao%2Fwh%3D450%2C600%2Fsign%3Dae742c6aedcd7b89e93932873a146e91%2F5d6034a85edf8db1b16050c40223dd54574e74c7.jpg)"
   ]
  },
  {
   "cell_type": "markdown",
   "metadata": {},
   "source": [
    "## Part-1 Programming Review 编程回顾"
   ]
  },
  {
   "cell_type": "markdown",
   "metadata": {},
   "source": [
    "#### 1. Re-code the Linear-Regression Model using scikit-learning(10 points)"
   ]
  },
  {
   "cell_type": "markdown",
   "metadata": {},
   "source": [
    "<评阅点>： \n",
    "> + 是否完成线性回归模型 (4')\n",
    "+ 能够进行预测新数据(3')\n",
    "+ 能够进行可视化操作(3')"
   ]
  },
  {
   "cell_type": "code",
   "execution_count": 13,
   "metadata": {
    "pycharm": {
     "is_executing": false
    }
   },
   "outputs": [
    {
     "name": "stderr",
     "output_type": "stream",
     "text": [
      "d:\\Anaconda3\\lib\\site-packages\\ipykernel_launcher.py:14: DeprecationWarning: This function is deprecated. Please call randint(1, 20 + 1) instead\n",
      "  \n"
     ]
    },
    {
     "name": "stdout",
     "output_type": "stream",
     "text": [
      "输入: 120\n",
      "预测结果是: 350.89990059139694\n"
     ]
    },
    {
     "data": {
      "image/png": "[encoded data removed]",
      "text/plain": [
       "<Figure size 432x288 with 1 Axes>"
      ]
     },
     "metadata": {
      "needs_background": "light"
     },
     "output_type": "display_data"
    }
   ],
   "source": [
    "from sklearn import linear_model\n",
    "import matplotlib.pyplot as plt\n",
    "import random\n",
    "import numpy as np\n",
    "\n",
    "lr = linear_model.LinearRegression()\n",
    "\n",
    "\n",
    "def assuming_function(x):\n",
    "    return random.randint(1, 5) * x + random.randint(-2, 2)\n",
    "\n",
    "\n",
    "def generate_data():\n",
    "    X = np.random.random_integers(low=1, high=20, size=(40, 1)) * 10\n",
    "    y = [assuming_function(x) for x in X]\n",
    "    y = np.array(y)\n",
    "    return X, y\n",
    "\n",
    "\n",
    "def f(x, k, b):\n",
    "    return k * x + b\n",
    "\n",
    "\n",
    "def predict(x):\n",
    "    X, y = generate_data()\n",
    "    reg = lr.fit(X, y)\n",
    "    reg.score(X.reshape(-1, 1), y)\n",
    "    p = lr.predict(np.array([x]).reshape(1, -1))\n",
    "    return X, y, p, reg.coef_, reg.intercept_\n",
    "\n",
    "\n",
    "def draw_graph(x):\n",
    "    X, y, predicted, k, b = predict(x)\n",
    "    print('输入: ' + str(x) + \"\\n预测结果是: \" + str(predicted[0][0]))\n",
    "    fig, ax = plt.subplots()\n",
    "    ax.scatter(X, y, c='b')\n",
    "    ax.plot(X, f(X, k, b), color='red')\n",
    "    ax.scatter(x, predicted, c='r')\n",
    "    ax.set_xlabel('Measured')\n",
    "    ax.set_ylabel('Predicted')\n",
    "    plt.show()\n",
    "\n",
    "\n",
    "def result(x):\n",
    "    draw_graph(x)\n",
    "    return\n",
    "\n",
    "\n",
    "result(120)"
   ]
  },
  {
   "cell_type": "markdown",
   "metadata": {},
   "source": [
    "#### 2. Complete the unfinished KNN Model using pure python to solve the previous Line-Regression problem. (8 points)"
   ]
  },
  {
   "cell_type": "markdown",
   "metadata": {},
   "source": [
    "<评阅点>:\n",
    "> + 是否完成了KNN模型 (4')\n",
    "+ 是否能够预测新的数据 (4')"
   ]
  },
  {
   "cell_type": "code",
   "execution_count": 14,
   "metadata": {},
   "outputs": [
    {
     "data": {
      "image/png": "[encoded data removed]",
      "text/plain": [
       "<Figure size 432x288 with 1 Axes>"
      ]
     },
     "metadata": {
      "needs_background": "light"
     },
     "output_type": "display_data"
    }
   ],
   "source": [
    "# you code here\n",
    "import numpy as np\n",
    "import matplotlib.pyplot as plt\n",
    "import random\n",
    "from scipy.spatial.distance import cosine\n",
    "\n",
    "\n",
    "def assuming_function(x):\n",
    "    return 10 * x + 3 + random.randint(-5, 5)\n",
    "\n",
    "\n",
    "# 1. 将数据存到内存中\n",
    "def knn_model(X, y):\n",
    "    return [(Xi, yi) for Xi, yi in zip(X, y)]\n",
    "\n",
    "\n",
    "# 2. 计算各点与预测点的余弦相似度\n",
    "# 源码中的余弦相似度的计算为啥是1-cos(theta)\n",
    "def distance(x1, x2):\n",
    "    c = cosine(x1, x2)\n",
    "    return c\n",
    "\n",
    "\n",
    "def draw_graph(x, y):\n",
    "    plt.scatter(x, y, c='r')\n",
    "    plt.show()\n",
    "    return\n",
    "\n",
    "\n",
    "def result(x, k=3):\n",
    "    X, Y = generate_training_data()\n",
    "    most_similar_datas = sorted(knn_model(X, Y), key=lambda xi: distance(xi[0], x))\n",
    "    y_hats = [_y for x, _y in most_similar_datas[:k]]\n",
    "    predicted = np.mean(y_hats)\n",
    "    draw_graph(x, predicted)\n",
    "    return\n",
    "\n",
    "\n",
    "def generate_training_data():\n",
    "    random_data = np.random.random((40, 2))\n",
    "    X = random_data[:, 0] * 2\n",
    "    Y = [assuming_function(x) for x in X]\n",
    "    plt.scatter(X, Y)\n",
    "    return X, Y\n",
    "\n",
    "\n",
    "result(1)"
   ]
  },
  {
   "cell_type": "markdown",
   "metadata": {},
   "source": [
    "#### 3. Re-code the Decision Tree, which could sort the features by salience. (12 points)"
   ]
  },
  {
   "cell_type": "markdown",
   "metadata": {},
   "source": [
    "<评阅点>\n",
    "> + 是否实现了信息熵 (1' )\n",
    "+ 是否实现了最优先特征点的选择(5')\n",
    "+ 是否实现了持续的特征选则(6')"
   ]
  },
  {
   "cell_type": "code",
   "execution_count": 7,
   "metadata": {
    "pycharm": {
     "is_executing": false
    }
   },
   "outputs": [
    {
     "name": "stdout",
     "output_type": "stream",
     "text": [
      "spliter is: ('family_number', 2)\n",
      "the min entropy is: 0.5623351446188083\n",
      "spliter is: ('income', '+10')\n",
      "the min entropy is: 0.5623351446188083\n",
      "需依次判断的特征为:  ['family_number', 'income']\n",
      "各个特征判断为True的值：  {'family_number': 2, 'income': '+10'}\n"
     ]
    }
   ],
   "source": [
    "# you code here\n",
    "from collections import Counter\n",
    "# from icecream import ic\n",
    "import numpy as np\n",
    "import pandas as pd\n",
    "\n",
    "mock_data = {\n",
    "    'gender': ['F', 'F', 'F', 'F', 'M', 'M', 'M'],\n",
    "    'income': ['+10', '-10', '+10', '+10', '+10', '+10', '-10'],\n",
    "    'family_number': [1, 2, 2, 1, 1, 1, 2],\n",
    "    'bought': [1, 1, 1, 0, 0, 0, 1],\n",
    "}\n",
    "\n",
    "\n",
    "# 根据训练数据，生成决策树的模型\n",
    "def decision_tree_model(training_data: pd.DataFrame, target: str):\n",
    "    feature_tree = {}\n",
    "    features = []\n",
    "    while True:\n",
    "        # print(training_data)\n",
    "        # print(training_data.shape)\n",
    "        f, v = find_the_optimal_spilter(training_data, target)\n",
    "        if f is None:\n",
    "            break\n",
    "        training_data = training_data[training_data[f] != v]\n",
    "        features.append(f)\n",
    "        feature_tree[f] = v\n",
    "        training_data = training_data.drop(columns=[f])\n",
    "        if training_data.empty:\n",
    "            break\n",
    "    return features, feature_tree\n",
    "\n",
    "\n",
    "dataset = pd.DataFrame.from_dict(mock_data)\n",
    "\n",
    "\n",
    "def entropy(elements):\n",
    "    counter = Counter(elements)\n",
    "    probs = [counter[c] / len(elements) for c in set(elements)]\n",
    "    return -sum(p * np.log(p) for p in probs)\n",
    "\n",
    "\n",
    "# 返回特征和信息熵\n",
    "def find_the_optimal_spilter(training_data: pd.DataFrame, target: str) -> str:\n",
    "    x_fields = set(training_data.columns.tolist()) - {target}\n",
    "    spliter = None\n",
    "    min_entropy = float('inf')\n",
    "    for f in x_fields:\n",
    "#         ic(f)\n",
    "        values = set(training_data[f])\n",
    "        # ic(values)\n",
    "        for v in values:\n",
    "            sub_spliter_1 = training_data[training_data[f] == v][target].tolist()\n",
    "#             ic(sub_spliter_1)\n",
    "            # split by the current feature and one value\n",
    "\n",
    "            entropy_1 = entropy(sub_spliter_1)\n",
    "#             ic(entropy_1)\n",
    "\n",
    "            sub_spliter_2 = training_data[training_data[f] != v][target].tolist()\n",
    "            # ic(sub_spliter_2)\n",
    "\n",
    "            entropy_2 = entropy(sub_spliter_2)\n",
    "#             ic(entropy_2)\n",
    "\n",
    "            entropy_v = entropy_1 + entropy_2\n",
    "#             ic(entropy_v)\n",
    "\n",
    "            if entropy_v <= min_entropy:\n",
    "                min_entropy = entropy_v\n",
    "                spliter = (f, v)\n",
    "\n",
    "    print('spliter is: {}'.format(spliter))\n",
    "    print('the min entropy is: {}'.format(min_entropy))\n",
    "    return spliter\n",
    "\n",
    "\n",
    "feature_names, feature_values = decision_tree_model(dataset, 'bought')\n",
    "print(\"需依次判断的特征为: \", feature_names)\n",
    "print(\"各个特征判断为True的值： \", feature_values)"
   ]
  },
  {
   "cell_type": "markdown",
   "metadata": {},
   "source": [
    "#### 4. Finish the K-Means using 2-D matplotlib (8 points)"
   ]
  },
  {
   "cell_type": "code",
   "execution_count": 8,
   "metadata": {},
   "outputs": [
    {
     "data": {
      "image/png": "[encoded data removed]",
      "text/plain": [
       "<Figure size 432x288 with 1 Axes>"
      ]
     },
     "metadata": {
      "needs_background": "light"
     },
     "output_type": "display_data"
    }
   ],
   "source": [
    "import matplotlib.pyplot as plt\n",
    "import random\n",
    "from collections import defaultdict\n",
    "from sklearn.cluster import KMeans\n",
    "\n",
    "\n",
    "# 生成2-D待分类数据\n",
    "def generate_clustering_data():\n",
    "    X1 = [random.randint(0, 1000) for _ in range(0, 1000)]\n",
    "    X2 = [random.randint(0, 1000) for _ in range(0, 1000)]\n",
    "    return [[x1, x2] for x1, x2 in zip(X1, X2)]\n",
    "\n",
    "\n",
    "def clustering(data):\n",
    "    return KMeans(n_clusters=6, max_iter=1000).fit(data)\n",
    "\n",
    "\n",
    "def draw_graph(cluster, locations):\n",
    "    clustered_locations = defaultdict(list)\n",
    "    colors = ['red', 'blue', 'orange', 'grey', 'black', 'yellow']\n",
    "    # 数据所属分类和颜色标记可以在一个for循环内完成，不必像课程代码中一样分开。\n",
    "    for label, location in zip(cluster.labels_, locations):\n",
    "        clustered_locations[label].append(location)\n",
    "        plt.scatter(*location, c=colors[label])\n",
    "    # 标记聚类中心点的颜色，这里颜色不设定，其会自动随机选择颜色，不会撞色\n",
    "    for center in cluster.cluster_centers_:\n",
    "        plt.scatter(*center, s=100)\n",
    "    plt.show()\n",
    "    return\n",
    "\n",
    "\n",
    "# 1. 生成待分类数据\n",
    "clustering_data = generate_clustering_data()\n",
    "# 2. 待分类数据的模型\n",
    "cluster = clustering(clustering_data)\n",
    "# 3. 绘制聚类数据图\n",
    "draw_graph(cluster, clustering_data)"
   ]
  },
  {
   "cell_type": "markdown",
   "metadata": {},
   "source": [
    "<评阅点>\n",
    "> + 是否完成了KMeans模型，基于scikit-learning (3')\n",
    "+ 是否完成了可视化任务（5'）"
   ]
  },
  {
   "cell_type": "markdown",
   "metadata": {},
   "source": [
    "## Part-2 Question and Answer 问答"
   ]
  },
  {
   "cell_type": "markdown",
   "metadata": {},
   "source": [
    "#### 1. What's the *model*? why  all the models are wrong, but some are useful? (5 points) "
   ]
  },
  {
   "cell_type": "markdown",
   "metadata": {},
   "source": [
    "Ans:"
   ]
  },
  {
   "cell_type": "markdown",
   "metadata": {},
   "source": [
    "1) In different subjects, model has different meaning. it can be pysical or abstract. But in computer science, we usually use model that is a simplified representation to describe the working of the real world system.\n",
    "\n",
    "2) \"All models are wrong\" that is, every model is wrong because it is a simplification of reality. Some models, especially in the \"hard\" sciences, are only a little wrong. They ignore things like friction or the gravitational effect of tiny bodies. Other models are a lot wrong - they ignore bigger things. In the social sciences, we ignore a lot.\n",
    "\n",
    "\"But some are useful\" - simplifications of reality can be quite useful. They can help us explain, predict and understand the universe and all its various components.\n",
    "\n",
    "This isn't just true in statistics! Maps are a type of model; they are wrong. But good maps are very useful. Examples of other useful but wrong models abound."
   ]
  },
  {
   "cell_type": "markdown",
   "metadata": {},
   "source": [
    "#### 2. What's the underfitting and overfitting? List the reasons that could make model overfitting or underfitting. (10 points)"
   ]
  },
  {
   "cell_type": "markdown",
   "metadata": {},
   "source": [
    "Ans:"
   ]
  },
  {
   "cell_type": "markdown",
   "metadata": {},
   "source": [
    "1) underfiting is that use complex formula matchs some simple data for high accuration.\n",
    "a) An underfitted model results in problematic or erroneous outcomes on new data\n",
    "b) data that it wasn't trained on, and often performs poorly even on training data.\n",
    "\n",
    "2) On the contrary, overfiting is that use a simple function to resprenst the data with high inaccuracy. Overfiting can't be avoided, but can be relieved.\n",
    "a) model selection is not right. A overfiting model such as decision tree, CNN is used in some simple applications.\n",
    "b) sample method from taining data is not right or training data contains much noise data.\n",
    "c) there are many parameters to tune. so the complexity of the model is high. \n",
    "\n",
    "something else.\n"
   ]
  },
  {
   "cell_type": "markdown",
   "metadata": {},
   "source": [
    "#### 3. What's the precision, recall, AUC, F1, F2score. What are they mainly target on? (12')"
   ]
  },
  {
   "cell_type": "markdown",
   "metadata": {},
   "source": [
    "Ans:"
   ]
  },
  {
   "cell_type": "markdown",
   "metadata": {},
   "source": [
    "<评阅点>\n",
    "> + 对precision, recall, AUC, F1, F2 理解是否正确(6‘)\n",
    "+ 对precision, recall, AUC, F1, F2的使用侧重点是否理解正确 (6’)\n",
    "\n",
    "1) Precision: the proportion of positive identifications was actually correct. \n",
    "<center>P = $\\frac{TP}{ TP + FP}$</center>\n",
    "2) Recall: the proportion of actual positives was identified correctly.\n",
    "<center>R = $\\frac{TP}{ TP + FN}$</center> \n",
    "3) AUC: that is Area Under ROC Curve.  AUC measures the entire two-dimensional area underneath the entire ROC curve.  \n",
    "    An ROC curve (receiver operating characteristic curve) is a graph showing the performance of a classification model at all classification thresholds. \n",
    "    \n",
    "4) F1/F2 score: the F1 score (also F-score or F-measure) is a measure of a test's accuracy. It considers both the precision p and the recall r of the test to compute the score. The F1 score is the harmonic mean of the precision and recall, where an F1 score reaches its best value at 1 (perfect precision and recall) and worst at 0.\n",
    " <center> F<sub>1</sub>  =2 * $ \\frac{P * R}{P + R} $ </center>\n",
    " \n",
    " There is also a more general represent,it's like this:\n",
    "  <center> F<sub>$\\beta$</sub>  =$ \\frac{(1 +\\beta^2) x P x R }{\\beta^2 x P + R} $ </center>\n",
    " when $\\beta$ = 1, that is F1 score. when $\\beta$ = 2, that is F2 score. \n",
    " "
   ]
  },
  {
   "cell_type": "markdown",
   "metadata": {},
   "source": [
    "#### 4. Based on our course and yourself mind, what's the machine learning?  (8')"
   ]
  },
  {
   "cell_type": "markdown",
   "metadata": {},
   "source": [
    "Ans:"
   ]
  },
  {
   "cell_type": "markdown",
   "metadata": {},
   "source": [
    "<评阅点> 开放式问题，是否能说出来机器学习这种思维方式和传统的分析式编程的区别（8'）  \n",
    "In my opinion, ML is more depended on statistical method. We improve ourself by reading books or self experiece etc. It's same as computer.The differece is that computer learn from the history data. Therse is an advantage of using ML in dealing with the unstructure data such as vedio and audio. For now, more and more data which contain much valuable information are produced everyday. But there are some limits for the tranditional programming in how to develop and use these data. For the tranditional programming, it's easy to handle structured data which has obvious features. But for unstructured data, it's difficut to find some apparent features. ML is capable of capturing some potential information from various data. It's provide a easy way for us to extract valuable data.  \n",
    "\n",
    "It is no doubt that there is no a absolutely model which is suitable all scenarios. We have to select a model accoding to the scenario. And then train an available model with provided data. ML application is based on the real world. It can be used to improve our efficiency. But it is also not available for everthing. In some case, tranditional programming maybe more suitable."
   ]
  },
  {
   "cell_type": "markdown",
   "metadata": {},
   "source": [
    "#### 5. \"正确定义了机器学习模型的评价标准(evaluation)， 问题基本上就已经解决一半\". 这句话是否正确？你是怎么看待的？ (8‘)"
   ]
  },
  {
   "cell_type": "markdown",
   "metadata": {},
   "source": [
    "<评阅点> 开放式问题，主要看能理解评价指标对机器学习模型的重要性.  \n",
    "This descriotion is right. If knew the evaluation, we also konw what we want to need. If the evalution defined not right, we may get a model which is not we wanted. For example, if a model selected or trained with a high precision and low recall, it may very complex and even get error result with overfitting. On the contray, if we trained with hign recall and ignored the prcision, then we may also got a result not we wanted. At the same time, it may spend a lot of time to tarin the model becasue we have to iterate many times for the high precision or recall. So we should define the model correctly. It's not worrth to achieve an unilaterally high evalution. After all, our target is to get an useable model.So we may define evalution correctly. On this condition, we can train the model easier."
   ]
  },
  {
   "cell_type": "markdown",
   "metadata": {},
   "source": [
    "## Part-03 Programming Practice 编程练习"
   ]
  },
  {
   "cell_type": "markdown",
   "metadata": {},
   "source": [
    "1. In our course and previous practice, we complete some importance components of Decision Tree. In this problem, you need to build a **completed** Decision Tree Model. You show finish a `predicate()` function, which accepts three parameters **<gender, income, family_number>**, and outputs the predicated 'bought': 1 or 0.  (20 points)"
   ]
  },
  {
   "cell_type": "code",
   "execution_count": 10,
   "metadata": {},
   "outputs": [
    {
     "name": "stdout",
     "output_type": "stream",
     "text": [
      "spliter is: ('family_number', 2)\n",
      "the min entropy is: 0.5623351446188083\n",
      "spliter is: ('income', '+10')\n",
      "the min entropy is: 0.5623351446188083\n",
      "需依次判断的特征为:  ['family_number', 'income']\n",
      "各个特征判断为True的值：  {'family_number': 2, 'income': '+10'}\n",
      "待判断的各个特征的值:  {'gender': 'M', 'income': '-10', 'family_number': 1}\n",
      "\n",
      "判断的结果为:  False\n"
     ]
    }
   ],
   "source": [
    "# you code here\n",
    "from collections import Counter\n",
    "# from icecream import ic\n",
    "import numpy as np\n",
    "import pandas as pd\n",
    "\n",
    "mock_data = {\n",
    "    'gender': ['F', 'F', 'F', 'F', 'M', 'M', 'M'],\n",
    "    'income': ['+10', '-10', '+10', '+10', '+10', '+10', '-10'],\n",
    "    'family_number': [1, 2, 2, 1, 1, 1, 2],\n",
    "    'bought': [1, 1, 1, 0, 0, 0, 1],\n",
    "}\n",
    "\n",
    "\n",
    "# 根据训练数据，生成决策树的模型\n",
    "def decision_tree_model(training_data: pd.DataFrame, target: str):\n",
    "    feature_tree = {}\n",
    "    features = []\n",
    "    while True:\n",
    "        # print(training_data)\n",
    "        # print(training_data.shape)\n",
    "        f, v = find_the_optimal_spilter(training_data, target)\n",
    "        if f is None:\n",
    "            break\n",
    "        training_data = training_data[training_data[f] != v]\n",
    "        features.append(f)\n",
    "        feature_tree[f] = v\n",
    "        training_data = training_data.drop(columns=[f])\n",
    "        if training_data.empty:\n",
    "            break\n",
    "    return features, feature_tree\n",
    "\n",
    "\n",
    "dataset = pd.DataFrame.from_dict(mock_data)\n",
    "\n",
    "\n",
    "def entropy(elements):\n",
    "    counter = Counter(elements)\n",
    "    probs = [counter[c] / len(elements) for c in set(elements)]\n",
    "    return -sum(p * np.log(p) for p in probs)\n",
    "\n",
    "\n",
    "# 返回特征和信息熵\n",
    "def find_the_optimal_spilter(training_data: pd.DataFrame, target: str) -> str:\n",
    "    x_fields = set(training_data.columns.tolist()) - {target}\n",
    "    spliter = None\n",
    "    min_entropy = float('inf')\n",
    "    for f in x_fields:\n",
    "#         ic(f)\n",
    "        values = set(training_data[f])\n",
    "        # ic(values)\n",
    "        for v in values:\n",
    "            sub_spliter_1 = training_data[training_data[f] == v][target].tolist()\n",
    "#             ic(sub_spliter_1)\n",
    "            # split by the current feature and one value\n",
    "\n",
    "            entropy_1 = entropy(sub_spliter_1)\n",
    "#             ic(entropy_1)\n",
    "\n",
    "            sub_spliter_2 = training_data[training_data[f] != v][target].tolist()\n",
    "            # ic(sub_spliter_2)\n",
    "\n",
    "            entropy_2 = entropy(sub_spliter_2)\n",
    "#             ic(entropy_2)\n",
    "\n",
    "            entropy_v = entropy_1 + entropy_2\n",
    "#             ic(entropy_v)\n",
    "\n",
    "            if entropy_v <= min_entropy:\n",
    "                min_entropy = entropy_v\n",
    "                spliter = (f, v)\n",
    "\n",
    "    print('spliter is: {}'.format(spliter))\n",
    "    print('the min entropy is: {}'.format(min_entropy))\n",
    "    return spliter\n",
    "\n",
    "\n",
    "def predicate(input_feature_values, target: str):\n",
    "    feature_names, feature_values = decision_tree_model(dataset, target)\n",
    "    print(\"需依次判断的特征为: \", feature_names)\n",
    "    print(\"各个特征判断为True的值： \", feature_values)\n",
    "    columns = dataset.columns.values.tolist()\n",
    "    need_judge = {}\n",
    "    for index, v in enumerate(input_feature_values):\n",
    "        need_judge[columns[index]] = v\n",
    "    print(\"待判断的各个特征的值: \", need_judge)\n",
    "    for f in feature_names:\n",
    "        if need_judge[f] == feature_values[f]:\n",
    "            return True\n",
    "    return False\n",
    "\n",
    "\n",
    "result = predicate([\"M\", \"-10\", 1], target='bought')\n",
    "print(\"\\n判断的结果为: \", result)"
   ]
  },
  {
   "cell_type": "markdown",
   "metadata": {},
   "source": [
    "<评阅点>\n",
    "> + 是否将之前的决策树模型的部分进行合并组装， predicate函数能够顺利运行(8')\n",
    "+ 是够能够输入未曾见过的X变量，例如gender, income, family_number 分别是： <M, -10, 1>, 模型能够预测出结果 (12')"
   ]
  },
  {
   "cell_type": "markdown",
   "metadata": {},
   "source": [
    "2. 将上一节课(第二节课)的线性回归问题中的Loss函数改成\"绝对值\"，并且改变其偏导的求值方式，观察其结果的变化。(19 point)"
   ]
  },
  {
   "cell_type": "code",
   "execution_count": 12,
   "metadata": {},
   "outputs": [
    {
     "data": {
      "image/png": "[encoded data removed]",
      "text/plain": [
       "<Figure size 432x288 with 1 Axes>"
      ]
     },
     "metadata": {
      "needs_background": "light"
     },
     "output_type": "display_data"
    },
    {
     "name": "stdout",
     "output_type": "stream",
     "text": [
      "Iteration 0, the loss is 101.79439981654579, parameters k is 2.390391413014868 and b is -94.28432956589883\n",
      "Iteration 100, the loss is 61.29777043386082, parameters k is 8.675025800366651 and b is -93.28432956589832\n",
      "Iteration 200, the loss is 20.98489765232, parameters k is 14.945653310248137 and b is -92.28602917064106\n",
      "Iteration 300, the loss is 6.291425069010592, parameters k is 18.066864851750115 and b is -91.75429004020626\n",
      "Iteration 400, the loss is 6.284935464998442, parameters k is 18.088206235149272 and b is -91.68930980305227\n",
      "Iteration 500, the loss is 6.28122401185513, parameters k is 18.079350503923873 and b is -91.62903312321035\n",
      "Iteration 600, the loss is 6.277512558711827, parameters k is 18.070494772698474 and b is -91.56875644336843\n",
      "Iteration 700, the loss is 6.273801105568516, parameters k is 18.061639041473075 and b is -91.50847976352651\n",
      "Iteration 800, the loss is 6.270089652425212, parameters k is 18.052783310247676 and b is -91.44820308368459\n",
      "Iteration 900, the loss is 6.266378016537878, parameters k is 18.044196986136903 and b is -91.38788687815098\n",
      "Iteration 1000, the loss is 6.262667652321321, parameters k is 18.035358132381862 and b is -91.32761019830907\n",
      "Iteration 1100, the loss is 6.258971586468084, parameters k is 18.02588172921984 and b is -91.26757067261754\n",
      "Iteration 1200, the loss is 6.255286601694476, parameters k is 18.016455839891833 and b is -91.20761019830944\n",
      "Iteration 1300, the loss is 6.251612037655347, parameters k is 18.0067725197337 and b is -91.14776830107623\n",
      "Iteration 1400, the loss is 6.247938872929363, parameters k is 17.997159397204015 and b is -91.0879264038429\n",
      "Iteration 1500, the loss is 6.244265716787883, parameters k is 17.98754627467433 and b is -91.02808450660957\n",
      "Iteration 1600, the loss is 6.240591728990135, parameters k is 17.97768939720393 and b is -90.96828213506794\n",
      "Iteration 1700, the loss is 6.2369185728486505, parameters k is 17.968076274674246 and b is -90.90844023783461\n",
      "Iteration 1800, the loss is 6.23324541670716, parameters k is 17.95846315214456 and b is -90.84859834060128\n",
      "Iteration 1900, the loss is 6.2295714289094235, parameters k is 17.948606274674162 and b is -90.78879596905965\n"
     ]
    },
    {
     "data": {
      "image/png": "[encoded data removed]",
      "text/plain": [
       "<Figure size 432x288 with 1 Axes>"
      ]
     },
     "metadata": {
      "needs_background": "light"
     },
     "output_type": "display_data"
    },
    {
     "data": {
      "image/png": "[encoded data removed]",
      "text/plain": [
       "<Figure size 432x288 with 1 Axes>"
      ]
     },
     "metadata": {
      "needs_background": "light"
     },
     "output_type": "display_data"
    }
   ],
   "source": [
    "# you code here\n",
    "from sklearn.datasets import load_boston\n",
    "import random\n",
    "import matplotlib.pyplot as plt\n",
    "\n",
    "dataset = load_boston()\n",
    "x, y = dataset['data'], dataset['target']\n",
    "X_rm = x[:, 5]\n",
    "plt.scatter(X_rm, y)\n",
    "plt.show()\n",
    "\n",
    "\n",
    "# Gradient descent\n",
    "\n",
    "def price(rm, k, b):\n",
    "    return k * rm + b\n",
    "\n",
    "\n",
    "def loss(y, y_hat):\n",
    "    # return sum((y_i - y_hat_i) ** 2 for y_i, y_hat_i in zip(list(y), list(y_hat))) / len(list(y))\n",
    "    # loss 定义为绝对值\n",
    "    return sum(abs(y_i - y_hat_i) for y_i, y_hat_i in zip(list(y), list(y_hat))) / len(list(y))\n",
    "\n",
    "\n",
    "# define partial derivative\n",
    "def partial_derivative_k(x, y, y_hat):\n",
    "    n = len(y)\n",
    "    gradient = 0\n",
    "    for x_i, y_i, y_hat_i in zip(list(x), list(y), list(y_hat)):\n",
    "        if y_i >= y_hat_i:\n",
    "            gradient += (-x_i)\n",
    "        else:\n",
    "            gradient += x_i\n",
    "    return gradient / n\n",
    "\n",
    "\n",
    "def partial_derivative_b(y, y_hat):\n",
    "    n = len(y)\n",
    "    gradient = 0\n",
    "    for y_i, y_hat_i in zip(list(y), list(y_hat)):\n",
    "        if y_i >= y_hat_i:\n",
    "            gradient += -1\n",
    "        else:\n",
    "            gradient += 1\n",
    "    return gradient / n\n",
    "\n",
    "\n",
    "def train():\n",
    "    # initialized parameters\n",
    "    k = random.random() * 200 - 100  # -100 100\n",
    "    b = random.random() * 200 - 100  # -100 100\n",
    "\n",
    "    learning_rate = 1e-2\n",
    "\n",
    "    iteration_num = 2000\n",
    "    losses = []\n",
    "    for i in range(iteration_num):\n",
    "        price_use_current_parameters = [price(r, k, b) for r in X_rm]  # \\hat{y}\n",
    "        current_loss = loss(y, price_use_current_parameters)\n",
    "        losses.append(current_loss)\n",
    "        if i % 100 == 0:\n",
    "            print(\"Iteration {}, the loss is {}, parameters k is {} and b is {}\".format(i, current_loss, k, b))\n",
    "\n",
    "        k_gradient = partial_derivative_k(X_rm, y, price_use_current_parameters)\n",
    "        b_gradient = partial_derivative_b(y, price_use_current_parameters)\n",
    "\n",
    "        k = k + (-1 * k_gradient) * learning_rate\n",
    "        b = b + (-1 * b_gradient) * learning_rate\n",
    "    plt.plot(list(range(iteration_num)), losses)\n",
    "    plt.show()\n",
    "    return k, b\n",
    "\n",
    "\n",
    "best_k, best_b = train()\n",
    "price_use_best_parameters = [price(r, best_k, best_b) for r in X_rm]\n",
    "plt.scatter(X_rm, price_use_best_parameters)\n",
    "plt.scatter(X_rm, y)\n",
    "plt.show()"
   ]
  },
  {
   "cell_type": "markdown",
   "metadata": {},
   "source": [
    "<评阅点>\n",
    "+ 是否将Loss改成了“绝对值”(3')\n",
    "+ 是否完成了偏导的重新定义(5')\n",
    "+ 新的模型Loss是否能够收敛 (11’)"
   ]
  },
  {
   "cell_type": "markdown",
   "metadata": {},
   "source": []
  }
 ],
 "metadata": {
  "kernelspec": {
   "display_name": "Python 3",
   "language": "python",
   "name": "python3"
  },
  "language_info": {
   "codemirror_mode": {
    "name": "ipython",
    "version": 3
   },
   "file_extension": ".py",
   "mimetype": "text/x-python",
   "name": "python",
   "nbconvert_exporter": "python",
   "pygments_lexer": "ipython3",
   "version": "3.7.4"
  }
 },
 "nbformat": 4,
 "nbformat_minor": 2
}
