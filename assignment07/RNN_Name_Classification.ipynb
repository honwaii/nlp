{
 "cells": [
  {
   "cell_type": "markdown",
   "metadata": {},
   "source": [
    "# Classifying Names with a Recurrent Neural Network\n",
    "\n",
    "Author: Christoph Schauer <br/>\n",
    "Last updated: 08/05/2019\n",
    "\n",
    "\n",
    "## Introduction\n",
    "\n",
    "In this notebook, a simple Recurrent Neural Network (RNN) with a GRU plus a fully connected layer is trained to classify names according to their language using an (unbalanced) dataset consisting of about 20,000 names in 18 languages. After training for 40 epochs, the network achieves an accuracy of around 95%, although it does have troubles differentiating between names of in this regard similar languages (Scottish and English, Spanish and Portuguese, Chinese and Vietnamese, Chinese and Korean). The notebook also includes code for a standard RNN and a RNN with LSTM as well as a predictor function running on user input.\n",
    "\n",
    "The code in this notebook is an adaption of the tutorial [Classifying Names with a Character-Level RNN](https://pytorch.org/tutorials/intermediate/char_rnn_classification_tutorial.html) by Sean Robertson from the official PyTorch website. I try to follow the naming conventions used there for the most part. The primary changes are:\n",
    "* Converting the text files containing the names into a quasi-tabular format \n",
    "* Replacing the custom 1-by-1 data loader with a standard PyTorch batch data loader using sequence padding\n",
    "* Replacing the custom RNN code with a network using PyTorch's nn.RNN() module plus a fully connected layer\n",
    "* Updating the predict() function for the new workflow and making it standalone\n",
    "* Adding classes for building RNNs with GRU and LSTM\n",
    "* Additional and more informative printouts\n",
    "\n",
    "I made these changes to bring the workflow more in line with what people learning PyTorch - including myself - will have seen in other basic tutorials and to make it easier to use it as stepping stone for working with other text datasets.\n",
    "\n",
    "Portions of the neural network code are based on [PyTorch Tutorials: Recurrent Neural Network](https://github.com/yunjey/pytorch-tutorial/blob/master/tutorials/02-intermediate/recurrent_neural_network/main.py) by Yunjey Choi."
   ]
  },
  {
   "cell_type": "markdown",
   "metadata": {},
   "source": [
    "## Table of contents\n",
    "\n",
    "* Introduction\n",
    "* Load required libraries\n",
    "* Data preprocessing\n",
    "* Sequence padding\n",
    "* Create custom dataset object\n",
    "* Network architectures: RNN, LSTM & GRU\n",
    "* Training the network\n",
    "* Model evaluation\n",
    "* Saving and loading a network\n",
    "\n",
    "## To do\n",
    "\n",
    "* Fix xticks errors in training progress visualization\n",
    "* Add a brief description of the RNN architecture used here and differences between standard RNN, GRU and LSTM model\n",
    "* Update CustomDataset() class to accept different data formats \n",
    "* Add embeddings\n",
    "* Add sequence packing\n",
    "* Import predict() function from a proper Python script"
   ]
  },
  {
   "cell_type": "markdown",
   "metadata": {},
   "source": [
    "## Required packages"
   ]
  },
  {
   "cell_type": "code",
   "execution_count": 1,
   "metadata": {},
   "outputs": [],
   "source": [
    "# Small utility packages\n",
    "import requests\n",
    "import zipfile\n",
    "import os\n",
    "import string\n",
    "import unicodedata\n",
    "import time\n",
    "\n",
    "# NumPy and matplotlib\n",
    "import numpy as np\n",
    "import matplotlib.pyplot as plt\n",
    "import matplotlib.ticker as ticker\n",
    "%matplotlib inline\n",
    "\n",
    "# PyTorch\n",
    "import torch\n",
    "import torch.nn as nn\n",
    "from torch.utils.data import Dataset, DataLoader\n",
    "from torch.nn.utils.rnn import pad_sequence"
   ]
  },
  {
   "cell_type": "markdown",
   "metadata": {},
   "source": [
    "## Data Preprocessing\n",
    "\n",
    "Steps of the data preprocessing pipeline:\n",
    "\n",
    "* Download data\n",
    "* Create feature and label lists from files\n",
    "* Create \"vocabulary\" of letters\n",
    "* Strip accents\n",
    "* Find the index of a letter\n",
    "* Convert names to tensors by one-hot encoding\n",
    "* Pad sequences"
   ]
  },
  {
   "cell_type": "markdown",
   "metadata": {},
   "source": [
    "### Download and unzip data\n",
    "\n",
    "The data can also be downloaded manually from this URL: https://download.pytorch.org/tutorial/data.zip"
   ]
  },
  {
   "cell_type": "code",
   "execution_count": 2,
   "metadata": {},
   "outputs": [],
   "source": [
    "# Download zipped data to working directory\n",
    "fileurl = \"https://download.pytorch.org/tutorial/data.zip\"\n",
    "r = requests.get(fileurl)\n",
    "open(\"data.zip\", 'wb').write(r.content)\n",
    "\n",
    "# Extract data to /data folder\n",
    "import zipfile\n",
    "with zipfile.ZipFile(\"data.zip\",\"r\") as zip_ref:\n",
    "    zip_ref.extractall(\".\");"
   ]
  },
  {
   "cell_type": "markdown",
   "metadata": {},
   "source": [
    "### Create text and category lists (names and languages)\n",
    "\n",
    "The original data has one text file with names per language. The code below loads the text files and converts them into a quasi-tabular format - two lists of equal length for text and labels - to replicate a tabular data format with the features and labels of one observation being in the same line."
   ]
  },
  {
   "cell_type": "code",
   "execution_count": 3,
   "metadata": {},
   "outputs": [
    {
     "name": "stdout",
     "output_type": "stream",
     "text": [
      "Length of line/category lists: 20074/20074\n",
      "Number of categories: 18\n",
      "Categories: ['Arabic', 'Chinese', 'Czech', 'Dutch', 'English', 'French', 'German', 'Greek', 'Irish', 'Italian', 'Japanese', 'Korean', 'Polish', 'Portuguese', 'Russian', 'Scottish', 'Spanish', 'Vietnamese']\n",
      "First 5 names: ['Khoury', 'Nahas', 'Daher', 'Gerges', 'Nazari']\n"
     ]
    }
   ],
   "source": [
    "# Data directory of downloaded files \n",
    "filepath = \"data/names/\"\n",
    "\n",
    "# Initialize lists for all names and the corresponding languages \n",
    "line_list = []\n",
    "category_list = []\n",
    "\n",
    "# Store categories \n",
    "all_categories = []\n",
    "\n",
    "# Loop over all files in the directory and read them\n",
    "for filename in os.listdir(filepath):   \n",
    "    lines = open(filepath+filename, encoding = \"utf-8\").read().strip().split(\"\\n\")\n",
    "    line_list += lines\n",
    "    category = filename.split(\".\")[0]\n",
    "    all_categories.append(category)\n",
    "    categories = [category]*len(lines)\n",
    "    category_list += categories\n",
    "\n",
    "n_categories = len(all_categories)\n",
    "\n",
    "# Check data \n",
    "print(\"Length of line/category lists: {}/{}\".format(len(line_list), len(category_list)))\n",
    "print(\"Number of categories:\", n_categories)\n",
    "print(\"Categories:\", all_categories)\n",
    "print(\"First 5 names:\", line_list[0:5])"
   ]
  },
  {
   "cell_type": "code",
   "execution_count": 4,
   "metadata": {},
   "outputs": [
    {
     "name": "stdout",
     "output_type": "stream",
     "text": [
      "Names per language in training data:\n",
      " {'Arabic': 2000, 'Chinese': 268, 'Czech': 519, 'Dutch': 297, 'English': 3668, 'French': 277, 'German': 724, 'Greek': 203, 'Irish': 232, 'Italian': 709, 'Japanese': 991, 'Korean': 94, 'Polish': 139, 'Portuguese': 74, 'Russian': 9408, 'Scottish': 100, 'Spanish': 298, 'Vietnamese': 73}\n"
     ]
    }
   ],
   "source": [
    "# Names per language: Unbalanced dataset\n",
    "unique, counts = np.unique(category_list, return_counts=True)\n",
    "print(\"Names per language in training data:\\n\", dict(zip(unique, counts)))"
   ]
  },
  {
   "cell_type": "markdown",
   "metadata": {},
   "source": [
    "### Converting names to tensors\n",
    "\n",
    "The code below converts each name in the line_list to a tensor: Each letter is converted to a one-dimensional tensor of length 58 - the number of letters in the \"vocabulary\" - with a 1 for the index of this letter in the vocabulary and zeroes otherwise. This is similar to one-hot encoding of categorical features for classic machine learning models. Each name is then a tensor of dimensions \"letters per name\" times 1 times \"letters in alphabet\" - or, generally speaking, sequence length times 1 times vocabulary size (if you tokenize a text by words, the vocabulary would be a list of words, hence my use of this term here)."
   ]
  },
  {
   "cell_type": "code",
   "execution_count": 5,
   "metadata": {},
   "outputs": [
    {
     "name": "stdout",
     "output_type": "stream",
     "text": [
      "Vocabulary: abcdefghijklmnopqrstuvwxyzABCDEFGHIJKLMNOPQRSTUVWXYZ .,;'-\n",
      "Vocabulary size: 58\n"
     ]
    }
   ],
   "source": [
    "# Create \"vocabulary\" of letter\n",
    "\n",
    "all_letters = string.ascii_letters + \" .,;'-\"\n",
    "n_letters = len(all_letters)\n",
    "\n",
    "print(\"Vocabulary:\", all_letters)\n",
    "print(\"Vocabulary size:\", n_letters)"
   ]
  },
  {
   "cell_type": "code",
   "execution_count": 6,
   "metadata": {},
   "outputs": [
    {
     "name": "stdout",
     "output_type": "stream",
     "text": [
      "Example: Ślusàrski >>> Slusarski\n"
     ]
    }
   ],
   "source": [
    "# Function to strip accents from letters\n",
    "\n",
    "def unicode_to_ascii(s):\n",
    "    return \"\".join(\n",
    "        c for c in unicodedata.normalize(\"NFD\", s)\n",
    "        if unicodedata.category(c) != \"Mn\"\n",
    "        and c in all_letters\n",
    "    )\n",
    "\n",
    "# Example\n",
    "print(\"Example: Ślusàrski >>>\", unicode_to_ascii(\"Ślusàrski\"))"
   ]
  },
  {
   "cell_type": "code",
   "execution_count": 7,
   "metadata": {},
   "outputs": [
    {
     "name": "stdout",
     "output_type": "stream",
     "text": [
      "Index of letter 'c': 2\n"
     ]
    }
   ],
   "source": [
    "# Function to find letter index from all_letters \"vocabulary\"\n",
    "\n",
    "def letter_to_index(letter):\n",
    "    return all_letters.find(letter)\n",
    "\n",
    "# Example\n",
    "print(\"Index of letter 'c':\", all_letters.find(\"c\"))  "
   ]
  },
  {
   "cell_type": "code",
   "execution_count": 8,
   "metadata": {},
   "outputs": [
    {
     "name": "stdout",
     "output_type": "stream",
     "text": [
      "Example name: Kim\n",
      "Tensor size: torch.Size([3, 1, 58])\n",
      "Tensorized name:\n",
      " tensor([[[0., 0., 0., 0., 0., 0., 0., 0., 0., 0., 0., 0., 0., 0., 0., 0., 0.,\n",
      "          0., 0., 0., 0., 0., 0., 0., 0., 0., 0., 0., 0., 0., 0., 0., 0., 0.,\n",
      "          0., 0., 1., 0., 0., 0., 0., 0., 0., 0., 0., 0., 0., 0., 0., 0., 0.,\n",
      "          0., 0., 0., 0., 0., 0., 0.]],\n",
      "\n",
      "        [[0., 0., 0., 0., 0., 0., 0., 0., 1., 0., 0., 0., 0., 0., 0., 0., 0.,\n",
      "          0., 0., 0., 0., 0., 0., 0., 0., 0., 0., 0., 0., 0., 0., 0., 0., 0.,\n",
      "          0., 0., 0., 0., 0., 0., 0., 0., 0., 0., 0., 0., 0., 0., 0., 0., 0.,\n",
      "          0., 0., 0., 0., 0., 0., 0.]],\n",
      "\n",
      "        [[0., 0., 0., 0., 0., 0., 0., 0., 0., 0., 0., 0., 1., 0., 0., 0., 0.,\n",
      "          0., 0., 0., 0., 0., 0., 0., 0., 0., 0., 0., 0., 0., 0., 0., 0., 0.,\n",
      "          0., 0., 0., 0., 0., 0., 0., 0., 0., 0., 0., 0., 0., 0., 0., 0., 0.,\n",
      "          0., 0., 0., 0., 0., 0., 0.]]])\n"
     ]
    }
   ],
   "source": [
    "# Function to convert each line = each name into a one-hot tensor\n",
    "\n",
    "def line_to_tensor(line):\n",
    "    tensor = torch.zeros(len(line), 1, n_letters)\n",
    "    for i, letter in enumerate(line):\n",
    "        tensor[i][0][letter_to_index(letter)] = 1\n",
    "    return tensor\n",
    "\n",
    "# Example\n",
    "print(\"Example name: Kim\")\n",
    "print(\"Tensor size:\", line_to_tensor(\"Kim\").size())\n",
    "print(\"Tensorized name:\\n\", line_to_tensor(\"Kim\"))"
   ]
  },
  {
   "cell_type": "code",
   "execution_count": 9,
   "metadata": {},
   "outputs": [
    {
     "name": "stdout",
     "output_type": "stream",
     "text": [
      "Length of line list: 20074\n",
      "Example name: Vuu\n",
      "tensor([[[0., 0., 0., 0., 0., 0., 0., 0., 0., 0., 0., 0., 0., 0., 0., 0., 0.,\n",
      "          0., 0., 0., 0., 0., 0., 0., 0., 0., 0., 0., 0., 0., 0., 0., 0., 0.,\n",
      "          0., 0., 0., 0., 0., 0., 0., 0., 0., 0., 0., 0., 0., 1., 0., 0., 0.,\n",
      "          0., 0., 0., 0., 0., 0., 0.]],\n",
      "\n",
      "        [[0., 0., 0., 0., 0., 0., 0., 0., 0., 0., 0., 0., 0., 0., 0., 0., 0.,\n",
      "          0., 0., 0., 1., 0., 0., 0., 0., 0., 0., 0., 0., 0., 0., 0., 0., 0.,\n",
      "          0., 0., 0., 0., 0., 0., 0., 0., 0., 0., 0., 0., 0., 0., 0., 0., 0.,\n",
      "          0., 0., 0., 0., 0., 0., 0.]],\n",
      "\n",
      "        [[0., 0., 0., 0., 0., 0., 0., 0., 0., 0., 0., 0., 0., 0., 0., 0., 0.,\n",
      "          0., 0., 0., 1., 0., 0., 0., 0., 0., 0., 0., 0., 0., 0., 0., 0., 0.,\n",
      "          0., 0., 0., 0., 0., 0., 0., 0., 0., 0., 0., 0., 0., 0., 0., 0., 0.,\n",
      "          0., 0., 0., 0., 0., 0., 0.]]])\n"
     ]
    }
   ],
   "source": [
    "# Combine the functions above to the list of names into a list of tensorized names\n",
    "\n",
    "line_list_clean = [unicode_to_ascii(line) for line in line_list]\n",
    "line_list_tensorized = [line_to_tensor(line) for line in line_list_clean] \n",
    "\n",
    "# Check data\n",
    "print(\"Length of line list:\", len(line_list_tensorized))\n",
    "print(\"Example name:\", line_list[-1])\n",
    "print(line_list_tensorized[-1])"
   ]
  },
  {
   "cell_type": "markdown",
   "metadata": {},
   "source": [
    "## Sequence padding\n",
    "\n",
    "The names in the dataset have different lengths, just like sentences have a different number of words. In an RNN, all sequences in one batch need to be of the same length. The simplest way to achieve this is to pad each name tensor with tensors of zeroes to the length of the longest name in the dataset. This is not the most memory-efficient way to handle this problem. This isn't an issue here with this small, simple dataset, but when working with large datasets with \"real\" text with wildly different sequence lengths (news articles, for example), packing (in addition to padding) is recommended; see https://pytorch.org/docs/stable/nn.html#torch.nn.utils.rnn.PackedSequence."
   ]
  },
  {
   "cell_type": "code",
   "execution_count": 10,
   "metadata": {},
   "outputs": [
    {
     "name": "stdout",
     "output_type": "stream",
     "text": [
      "Longest name: Shirinsky-Shikhmatov\n",
      "Maximum sequence length: 20\n"
     ]
    }
   ],
   "source": [
    "sequence_length = len(max(line_list, key=len))\n",
    "\n",
    "print(\"Longest name:\", max(line_list, key=len))\n",
    "print(\"Maximum sequence length:\", sequence_length)"
   ]
  },
  {
   "cell_type": "code",
   "execution_count": 11,
   "metadata": {},
   "outputs": [
    {
     "name": "stdout",
     "output_type": "stream",
     "text": [
      "Original shape: torch.Size([20, 20074, 1, 58])\n",
      "Permuted shape: torch.Size([20074, 1, 20, 58])\n"
     ]
    }
   ],
   "source": [
    "# Pad sequences - automatically converts the data to a tensor\n",
    "line_tensor = pad_sequence(line_list_tensorized)\n",
    "\n",
    "# Transpose tensor to the correct format: Number of observations, 1, sequence length, features\n",
    "line_tensor_permuted = line_tensor.permute(1,2,0,3)\n",
    "\n",
    "print(\"Original shape:\", line_tensor.size())\n",
    "print(\"Permuted shape:\", line_tensor_permuted.size())"
   ]
  },
  {
   "cell_type": "markdown",
   "metadata": {},
   "source": [
    "## Create custom dataset object"
   ]
  },
  {
   "cell_type": "markdown",
   "metadata": {},
   "source": [
    "### Convert data to arrays\n",
    "\n",
    "The class CustomDataset() converts an array of features and an array of labels into a data object from which PyTorch's data loaders load data into the network for training. You can make do without creating such an object, but doing so aligns this workflow with what many who started their PyTorch journey with one of the datasets that come with PyTorch (like MNIST) will be familiar with.\n",
    "\n",
    "As the CustomDataset() class requires arrays as inputs, the tensor X holding the features has to be converted back into a NumPy array first."
   ]
  },
  {
   "cell_type": "code",
   "execution_count": 12,
   "metadata": {},
   "outputs": [
    {
     "name": "stdout",
     "output_type": "stream",
     "text": [
      "Category dictionary: {'Arabic': 0, 'Chinese': 1, 'Czech': 2, 'Dutch': 3, 'English': 4, 'French': 5, 'German': 6, 'Greek': 7, 'Irish': 8, 'Italian': 9, 'Japanese': 10, 'Korean': 11, 'Polish': 12, 'Portuguese': 13, 'Russian': 14, 'Scottish': 15, 'Spanish': 16, 'Vietnamese': 17}\n",
      "Length of category array: (20074,)\n"
     ]
    }
   ],
   "source": [
    "# Convert feature tensor to array\n",
    "X = line_tensor_permuted.numpy()\n",
    "\n",
    "# Map languages to integer labels\n",
    "category_dict = dict(zip(all_categories, range(n_categories)))\n",
    "\n",
    "# Convert all languages in the category list to an array of labels\n",
    "category_list_numeric = [category_dict.get(i) for i in category_list]\n",
    "y = np.array(category_list_numeric)\n",
    "\n",
    "print(\"Category dictionary:\", category_dict)\n",
    "print(\"Length of category array:\", y.shape)"
   ]
  },
  {
   "cell_type": "code",
   "execution_count": 13,
   "metadata": {},
   "outputs": [],
   "source": [
    "class CustomDataset():\n",
    "    '''Creates a custom dataset from numpy arrays of features and labels \n",
    "    for feeding into PyTorch dataloaders '''\n",
    "    def __init__(self, features, labels):\n",
    "        self.features = torch.from_numpy(features)\n",
    "        self.labels = torch.from_numpy(labels).type(torch.LongTensor)\n",
    "        self.len = len(features)\n",
    "\n",
    "    def __getitem__(self, index):\n",
    "        return self.features[index], self.labels[index]\n",
    "\n",
    "    def __len__(self):\n",
    "        return self.len"
   ]
  },
  {
   "cell_type": "code",
   "execution_count": 14,
   "metadata": {},
   "outputs": [],
   "source": [
    "# Instantiate objects for train and test sets\n",
    "\n",
    "data_train = CustomDataset(features=X, labels=y)\n",
    "data_test = CustomDataset(features=X, labels=y)"
   ]
  },
  {
   "cell_type": "markdown",
   "metadata": {},
   "source": [
    "## Data loaders"
   ]
  },
  {
   "cell_type": "code",
   "execution_count": 15,
   "metadata": {},
   "outputs": [
    {
     "name": "stdout",
     "output_type": "stream",
     "text": [
      "Lines in training data: 20074\n",
      "Training batches: 201\n",
      "Batch size: 100\n"
     ]
    }
   ],
   "source": [
    "# Set batch size\n",
    "batch_size = 100\n",
    "\n",
    "# Data loaders \n",
    "trainloader = DataLoader(dataset=data_train, batch_size=batch_size, shuffle=True)\n",
    "testloader = DataLoader(dataset=data_test, batch_size=batch_size, shuffle=False)\n",
    "\n",
    "# Test data loaders\n",
    "print(\"Lines in training data:\", len(trainloader.dataset))\n",
    "print(\"Training batches:\", len(trainloader))\n",
    "print(\"Batch size:\", batch_size)"
   ]
  },
  {
   "cell_type": "code",
   "execution_count": 16,
   "metadata": {},
   "outputs": [
    {
     "name": "stdout",
     "output_type": "stream",
     "text": [
      "Batch of tensorized names: torch.Size([100, 1, 20, 58])\n",
      "Batch of labels: torch.Size([100])\n"
     ]
    }
   ],
   "source": [
    "# Test data loaders: Load a batch\n",
    "dataiter = iter(trainloader)\n",
    "names, labels = dataiter.next()\n",
    "print(\"Batch of tensorized names:\", names.size())\n",
    "print(\"Batch of labels:\", labels.size())"
   ]
  },
  {
   "cell_type": "markdown",
   "metadata": {},
   "source": [
    "# Model architecture\n",
    "\n",
    "TO DO: Add a brief description of the RNN architecture used here and differences between standard RNN, GRU and LSTM model."
   ]
  },
  {
   "cell_type": "markdown",
   "metadata": {},
   "source": [
    "### Device configuration"
   ]
  },
  {
   "cell_type": "code",
   "execution_count": 17,
   "metadata": {},
   "outputs": [
    {
     "name": "stdout",
     "output_type": "stream",
     "text": [
      "Device: cuda\n"
     ]
    }
   ],
   "source": [
    "# Train the network on a GPU if a cuda-GPU is available\n",
    "\n",
    "device = torch.device('cuda' if torch.cuda.is_available() else 'cpu')\n",
    "print(\"Device:\", device)"
   ]
  },
  {
   "cell_type": "markdown",
   "metadata": {},
   "source": [
    "### Network architecture hyperparameters\n",
    "\n",
    "These parameters are the same for the standard RNN, the RNN with GRU and the one with LSTM."
   ]
  },
  {
   "cell_type": "code",
   "execution_count": 18,
   "metadata": {},
   "outputs": [],
   "source": [
    "# Network architecture hyperparameters\n",
    "\n",
    "input_size = n_letters   # size of vocabulary\n",
    "hidden_size = 128\n",
    "num_layers = 2\n",
    "num_classes = n_categories"
   ]
  },
  {
   "cell_type": "markdown",
   "metadata": {},
   "source": [
    "### Standard Recurrent Neural Network"
   ]
  },
  {
   "cell_type": "code",
   "execution_count": 19,
   "metadata": {},
   "outputs": [],
   "source": [
    "class RNN(nn.Module):\n",
    "    def __init__(self, input_size, hidden_size, num_layers, num_classes):\n",
    "        super(RNN, self).__init__()\n",
    "        self.hidden_size = hidden_size\n",
    "        self.num_layers = num_layers\n",
    "        self.rnn = nn.RNN(input_size, hidden_size, num_layers, batch_first=True)   # RNN\n",
    "        self.fc = nn.Linear(hidden_size, num_classes)  \n",
    "        self.softmax = nn.LogSoftmax(dim=1)   # Log softmax\n",
    "\n",
    "    def forward(self, x):\n",
    "        # Set initial hidden and cell states - RNN\n",
    "        h0 = torch.zeros(self.num_layers, x.size(0), self.hidden_size).to(device) \n",
    "\n",
    "        # Forward propagate RNN\n",
    "        out, _ = self.rnn(x, h0)\n",
    "\n",
    "        # Decode the hidden state of the last time step\n",
    "        out = self.fc(out[:, -1, :])\n",
    "        \n",
    "        # Log softmax of output\n",
    "        out = self.softmax(out) \n",
    "\n",
    "        return out"
   ]
  },
  {
   "cell_type": "markdown",
   "metadata": {},
   "source": [
    "### RNN with GRU"
   ]
  },
  {
   "cell_type": "code",
   "execution_count": 19,
   "metadata": {},
   "outputs": [],
   "source": [
    "class RNN_GRU(nn.Module):\n",
    "    def __init__(self, input_size, hidden_size, num_layers, num_classes):\n",
    "        super(RNN_GRU, self).__init__()\n",
    "        self.hidden_size = hidden_size\n",
    "        self.num_layers = num_layers\n",
    "        self.gru = nn.GRU(input_size, hidden_size, num_layers, batch_first=True)   # GRU\n",
    "        self.fc = nn.Linear(hidden_size, num_classes)  \n",
    "        self.softmax = nn.LogSoftmax(dim=1)\n",
    "\n",
    "    def forward(self, x):\n",
    "        # Set initial hidden and cell states - GRU\n",
    "        h0 = torch.zeros(self.num_layers, x.size(0), self.hidden_size).to(device) \n",
    "        \n",
    "        # Forward propagate RNN\n",
    "        out, _ = self.gru(x, h0)\n",
    "        \n",
    "        # Decode the hidden state of the last time step\n",
    "        out = self.fc(out[:, -1, :])\n",
    "        \n",
    "        out = self.softmax(out) \n",
    "        return out"
   ]
  },
  {
   "cell_type": "markdown",
   "metadata": {},
   "source": [
    "### RNN with LSTM"
   ]
  },
  {
   "cell_type": "code",
   "execution_count": 21,
   "metadata": {},
   "outputs": [],
   "source": [
    "class RNN_LSTM(nn.Module):\n",
    "    def __init__(self, input_size, hidden_size, num_layers, num_classes):\n",
    "        super(RNN_LSTM, self).__init__()\n",
    "        self.hidden_size = hidden_size\n",
    "        self.num_layers = num_layers\n",
    "        self.lstm = nn.LSTM(input_size, hidden_size, num_layers, batch_first=True)   # LSTM\n",
    "        self.fc = nn.Linear(hidden_size, num_classes) \n",
    "        self.softmax = nn.LogSoftmax(dim=1)\n",
    "\n",
    "    def forward(self, x):\n",
    "        # Set initial hidden and cell states - LSTM\n",
    "        h0 = torch.zeros(self.num_layers, x.size(0), self.hidden_size).to(device) \n",
    "        c0 = torch.zeros(self.num_layers, x.size(0), self.hidden_size).to(device)\n",
    "        \n",
    "        # Forward propagate RNN\n",
    "        out, _ = self.lstm(x, (h0, c0))\n",
    "\n",
    "        # Decode the hidden state of the last time step\n",
    "        out = self.fc(out[:, -1, :])\n",
    "        \n",
    "        out = self.softmax(out) \n",
    "        return out"
   ]
  },
  {
   "cell_type": "markdown",
   "metadata": {},
   "source": [
    "## Training the network\n",
    "\n",
    "I'm training and evaluating an RNN with a GRU here. A network with LSTM achieves similar accuracy. A RNN with neither LSTM nor GRU, however, has troubles learning. For trying out one of the other two models, just use a model of a different class."
   ]
  },
  {
   "cell_type": "markdown",
   "metadata": {},
   "source": [
    "### RNN with GRU"
   ]
  },
  {
   "cell_type": "code",
   "execution_count": 20,
   "metadata": {},
   "outputs": [],
   "source": [
    "# Instantiate model\n",
    "model = RNN_GRU(input_size, hidden_size, num_layers, num_classes) \n",
    "\n",
    "# Send model to device\n",
    "model.to(device)\n",
    "\n",
    "# Traing hyper-parameters\n",
    "sequence_length = sequence_length   # length of padded tensors\n",
    "num_epochs = 40\n",
    "learning_rate = 0.001\n",
    "\n",
    "# Loss and optimizer\n",
    "criterion = nn.NLLLoss()\n",
    "optimizer = torch.optim.Adam(model.parameters(), lr=learning_rate)\n",
    "\n",
    "# Print out training progress every {print_every} batches\n",
    "print_every = 200 "
   ]
  },
  {
   "cell_type": "code",
   "execution_count": 21,
   "metadata": {},
   "outputs": [
    {
     "name": "stdout",
     "output_type": "stream",
     "text": [
      "Start of traing -- Device: cuda -- Epochs: 40 -- Batches: 201 -- Batch size: 100\n",
      "Epoch: 1/40 -- Batches: 200/201 -- Training loss: 1.740 -- Training accuracy: 0.504\n",
      "Epoch: 2/40 -- Batches: 200/201 -- Training loss: 1.443 -- Training accuracy: 0.571\n",
      "Epoch: 3/40 -- Batches: 200/201 -- Training loss: 1.231 -- Training accuracy: 0.651\n",
      "Epoch: 4/40 -- Batches: 200/201 -- Training loss: 1.086 -- Training accuracy: 0.684\n",
      "Epoch: 5/40 -- Batches: 200/201 -- Training loss: 0.998 -- Training accuracy: 0.706\n",
      "Epoch: 6/40 -- Batches: 200/201 -- Training loss: 0.928 -- Training accuracy: 0.727\n",
      "Epoch: 7/40 -- Batches: 200/201 -- Training loss: 0.864 -- Training accuracy: 0.743\n",
      "Epoch: 8/40 -- Batches: 200/201 -- Training loss: 0.804 -- Training accuracy: 0.759\n",
      "Epoch: 9/40 -- Batches: 200/201 -- Training loss: 0.744 -- Training accuracy: 0.776\n",
      "Epoch: 10/40 -- Batches: 200/201 -- Training loss: 0.692 -- Training accuracy: 0.791\n",
      "Epoch: 11/40 -- Batches: 200/201 -- Training loss: 0.652 -- Training accuracy: 0.801\n",
      "Epoch: 12/40 -- Batches: 200/201 -- Training loss: 0.612 -- Training accuracy: 0.812\n",
      "Epoch: 13/40 -- Batches: 200/201 -- Training loss: 0.583 -- Training accuracy: 0.820\n",
      "Epoch: 14/40 -- Batches: 200/201 -- Training loss: 0.552 -- Training accuracy: 0.830\n",
      "Epoch: 15/40 -- Batches: 200/201 -- Training loss: 0.532 -- Training accuracy: 0.833\n",
      "Epoch: 16/40 -- Batches: 200/201 -- Training loss: 0.515 -- Training accuracy: 0.840\n",
      "Epoch: 17/40 -- Batches: 200/201 -- Training loss: 0.489 -- Training accuracy: 0.845\n",
      "Epoch: 18/40 -- Batches: 200/201 -- Training loss: 0.470 -- Training accuracy: 0.852\n",
      "Epoch: 19/40 -- Batches: 200/201 -- Training loss: 0.450 -- Training accuracy: 0.859\n",
      "Epoch: 20/40 -- Batches: 200/201 -- Training loss: 0.438 -- Training accuracy: 0.859\n",
      "Epoch: 21/40 -- Batches: 200/201 -- Training loss: 0.418 -- Training accuracy: 0.866\n",
      "Epoch: 22/40 -- Batches: 200/201 -- Training loss: 0.394 -- Training accuracy: 0.874\n",
      "Epoch: 23/40 -- Batches: 200/201 -- Training loss: 0.377 -- Training accuracy: 0.878\n",
      "Epoch: 24/40 -- Batches: 200/201 -- Training loss: 0.362 -- Training accuracy: 0.883\n",
      "Epoch: 25/40 -- Batches: 200/201 -- Training loss: 0.346 -- Training accuracy: 0.885\n",
      "Epoch: 26/40 -- Batches: 200/201 -- Training loss: 0.321 -- Training accuracy: 0.896\n",
      "Epoch: 27/40 -- Batches: 200/201 -- Training loss: 0.307 -- Training accuracy: 0.900\n",
      "Epoch: 28/40 -- Batches: 200/201 -- Training loss: 0.298 -- Training accuracy: 0.902\n",
      "Epoch: 29/40 -- Batches: 200/201 -- Training loss: 0.280 -- Training accuracy: 0.906\n",
      "Epoch: 30/40 -- Batches: 200/201 -- Training loss: 0.264 -- Training accuracy: 0.913\n",
      "Epoch: 31/40 -- Batches: 200/201 -- Training loss: 0.243 -- Training accuracy: 0.918\n",
      "Epoch: 32/40 -- Batches: 200/201 -- Training loss: 0.236 -- Training accuracy: 0.921\n",
      "Epoch: 33/40 -- Batches: 200/201 -- Training loss: 0.227 -- Training accuracy: 0.922\n",
      "Epoch: 34/40 -- Batches: 200/201 -- Training loss: 0.209 -- Training accuracy: 0.929\n",
      "Epoch: 35/40 -- Batches: 200/201 -- Training loss: 0.199 -- Training accuracy: 0.934\n",
      "Epoch: 36/40 -- Batches: 200/201 -- Training loss: 0.185 -- Training accuracy: 0.937\n",
      "Epoch: 37/40 -- Batches: 200/201 -- Training loss: 0.177 -- Training accuracy: 0.939\n",
      "Epoch: 38/40 -- Batches: 200/201 -- Training loss: 0.181 -- Training accuracy: 0.937\n",
      "Epoch: 39/40 -- Batches: 200/201 -- Training loss: 0.162 -- Training accuracy: 0.944\n",
      "Epoch: 40/40 -- Batches: 200/201 -- Training loss: 0.154 -- Training accuracy: 0.946\n",
      "Training complete. Total training time: 104.0 seconds\n"
     ]
    }
   ],
   "source": [
    "# Code for printouts and visualizations ----------------\n",
    "\n",
    "start_time = time.time()\n",
    "\n",
    "print(\"Start of traing -- Device: {} -- Epochs: {} -- Batches: {} -- Batch size: {}\"\n",
    "      .format(device, num_epochs, len(trainloader), batch_size))\n",
    "\n",
    "# Initiate variables and lists for training progress printouts and visualizations\n",
    "running_loss = 0\n",
    "running_total = 0\n",
    "running_correct = 0\n",
    "loss_list = [] \n",
    "loss_list_print_every = [] \n",
    "\n",
    "\n",
    "# Code for actual training -----------------------------\n",
    "\n",
    "# Set model to training mode\n",
    "model.train()\n",
    "\n",
    "# Train the model\n",
    "for epoch in range(num_epochs):\n",
    "    for i, (lines, labels) in enumerate(trainloader):\n",
    "        \n",
    "        # Send data to GPU\n",
    "        lines, labels = lines.to(device), labels.to(device)\n",
    "        \n",
    "        # Reshape lines batch\n",
    "        lines = lines.reshape(-1, sequence_length, input_size)\n",
    "        \n",
    "        # Forward and backward pass\n",
    "        output = model(lines)\n",
    "        loss = criterion(output, labels)\n",
    "        optimizer.zero_grad()\n",
    "        loss.backward()\n",
    "        optimizer.step()\n",
    "\n",
    "        \n",
    "# Code for printouts and visualizations ----------------\n",
    "\n",
    "        # Store running loss, total, correct\n",
    "        running_loss += loss.item()\n",
    "        _, predicted = torch.max(output.data, 1)\n",
    "        running_total += labels.size(0)\n",
    "        running_correct += (predicted == labels).sum().item()       \n",
    "        loss_list.append(loss.item())\n",
    "\n",
    "        # Print out  average training loss and accuracy every {print_every} batches\n",
    "        if (i+1) % print_every == 0:         \n",
    "            print(\"Epoch: {}/{} -- Batches: {}/{} -- Training loss: {:.3f} -- Training accuracy: {:.3f}\"\n",
    "                  .format(epoch+1, num_epochs, i+1, len(trainloader), \n",
    "                          running_loss/print_every, running_correct/running_total))\n",
    "            \n",
    "            # Store running loss in list\n",
    "            loss_list_print_every.append(running_loss/print_every)\n",
    "            \n",
    "            # Reset running loss and accuracy\n",
    "            running_loss = 0\n",
    "            running_total = 0\n",
    "            running_correct = 0\n",
    "            \n",
    "print(\"Training complete. Total training time: {:.1f} seconds\".format(time.time() - start_time))"
   ]
  },
  {
   "cell_type": "markdown",
   "metadata": {},
   "source": [
    "### Training progress visualization"
   ]
  },
  {
   "cell_type": "code",
   "execution_count": 22,
   "metadata": {},
   "outputs": [
    {
     "data": {
      "image/png": "[encoded data removed]",
      "text/plain": [
       "<Figure size 864x576 with 2 Axes>"
      ]
     },
     "metadata": {
      "needs_background": "light"
     },
     "output_type": "display_data"
    }
   ],
   "source": [
    "plt.figure(figsize=(12,8))\n",
    "\n",
    "plt.subplot(2,1,1)\n",
    "xticks = np.arange(0, len(loss_list)+100, 100)\n",
    "plt.plot(loss_list)\n",
    "plt.xticks(xticks)\n",
    "plt.xticks(rotation=90)\n",
    "plt.xlabel(\"Batch\")\n",
    "plt.ylabel(\"Loss per batch\")\n",
    "\n",
    "plt.subplot(2,1,2)\n",
    "xticks = np.arange(1, len(loss_list_print_every)+1, 1)\n",
    "plt.plot(loss_list_print_every)\n",
    "plt.xticks(xticks)\n",
    "plt.xlabel(str(print_every)+\" Batches\")\n",
    "plt.ylabel(\"Average loss per batch\")\n",
    "\n",
    "plt.show()"
   ]
  },
  {
   "cell_type": "markdown",
   "metadata": {},
   "source": [
    "## Model evaluation"
   ]
  },
  {
   "cell_type": "code",
   "execution_count": 23,
   "metadata": {},
   "outputs": [
    {
     "name": "stdout",
     "output_type": "stream",
     "text": [
      "Evaluating network on 20074 images in test set -- Test loss: 0.128 -- Test accuracy: 0.955\n"
     ]
    }
   ],
   "source": [
    "# Initialize variables and arrays to store loss and true and predicted labels\n",
    "running_loss = 0\n",
    "labels_true = np.array([], dtype=int)\n",
    "labels_pred = np.array([], dtype=int)\n",
    "\n",
    "# Set model to evaluation mode\n",
    "model.eval()\n",
    "\n",
    "with torch.no_grad():   # Deactive gradient calculations   \n",
    "    for i, (lines, labels) in enumerate(testloader):\n",
    "        lines, labels = lines.to(device), labels.to(device)\n",
    "        lines = lines.reshape(-1, sequence_length, input_size).to(device)\n",
    "        \n",
    "        # Forward pass\n",
    "        output = model(lines)\n",
    "        loss = criterion(output, labels)\n",
    "\n",
    "        running_loss += loss.item()\n",
    "        _, predicted = torch.max(output.data, 1)      \n",
    "\n",
    "        # calculate accuracy - not really required when true and predicted labels are stored anyway\n",
    "        labels_true = np.append(labels_true, labels.cpu().numpy())\n",
    "        labels_pred = np.append(labels_pred, predicted.cpu().numpy())\n",
    "\n",
    "        \n",
    "test_accuracy = np.equal(labels_pred, labels_true).mean()         \n",
    "        \n",
    "print(\"Evaluating network on {} images in test set -- Test loss: {:.3f} -- Test accuracy: {:.3f}\"\n",
    "      .format(len(testloader.dataset), running_loss/len(testloader), test_accuracy))"
   ]
  },
  {
   "cell_type": "markdown",
   "metadata": {},
   "source": [
    "### Accuracy per category"
   ]
  },
  {
   "cell_type": "code",
   "execution_count": 25,
   "metadata": {},
   "outputs": [
    {
     "name": "stdout",
     "output_type": "stream",
     "text": [
      "Accuracy by category:\n",
      "Arabic : 1.0\n",
      "Chinese : 0.98\n",
      "Czech : 0.89\n",
      "Dutch : 0.86\n",
      "English : 0.96\n",
      "French : 0.73\n",
      "German : 0.84\n",
      "Greek : 0.99\n",
      "Irish : 0.72\n",
      "Italian : 0.97\n",
      "Japanese : 0.99\n",
      "Korean : 0.57\n",
      "Polish : 0.84\n",
      "Portuguese : 0.35\n",
      "Russian : 0.99\n",
      "Scottish : 0.04\n",
      "Spanish : 0.84\n",
      "Vietnamese : 0.52\n"
     ]
    }
   ],
   "source": [
    "# Initialize matrix of zeroes\n",
    "cm = np.zeros((num_classes, num_classes))\n",
    "\n",
    "# Build confusion matrix\n",
    "for i in range(len(labels_true)):\n",
    "    cm[labels_true[i]][labels_pred[i]] +=1\n",
    "\n",
    "# Normalize values in confusion matrix\n",
    "for i in range(num_classes):\n",
    "    cm[i] = cm[i] / cm[i].sum()\n",
    "\n",
    "print(\"Accuracy by category:\")\n",
    "acc_dict = dict(zip(all_categories, [round(i, 2) for i in (cm.diagonal())]))\n",
    "for i in range(len(acc_dict)):\n",
    "    print(list(acc_dict.keys())[i], \":\", list(acc_dict.values())[i])"
   ]
  },
  {
   "cell_type": "markdown",
   "metadata": {},
   "source": [
    "### Visualize confusion matrix"
   ]
  },
  {
   "cell_type": "code",
   "execution_count": 26,
   "metadata": {},
   "outputs": [
    {
     "data": {
      "image/png": "[encoded data removed]",
      "text/plain": [
       "<Figure size 432x288 with 2 Axes>"
      ]
     },
     "metadata": {
      "needs_background": "light"
     },
     "output_type": "display_data"
    }
   ],
   "source": [
    "# Set up plot\n",
    "fig = plt.figure()\n",
    "ax = fig.add_subplot(111)\n",
    "cax = ax.matshow(cm)\n",
    "fig.colorbar(cax)\n",
    "\n",
    "# Set up axes\n",
    "ax.set_xticklabels([''] + all_categories, rotation=90)\n",
    "ax.set_yticklabels([''] + all_categories)\n",
    "ax.xaxis.set_major_locator(ticker.MultipleLocator(1))\n",
    "ax.yaxis.set_major_locator(ticker.MultipleLocator(1))\n",
    "\n",
    "plt.show()"
   ]
  },
  {
   "cell_type": "markdown",
   "metadata": {},
   "source": [
    "The model has troubles differentiating between names of similar languages (Scottish and English, Spanish and Portuguese, Vietnamese and Chinese)."
   ]
  },
  {
   "cell_type": "markdown",
   "metadata": {},
   "source": [
    "## Save trained model"
   ]
  },
  {
   "cell_type": "code",
   "execution_count": 76,
   "metadata": {},
   "outputs": [],
   "source": [
    "#Save the state dictionary\n",
    "filename = \"RNN_Name_Classification_checkpoint.pth\"\n",
    "torch.save(model.state_dict(), filename)"
   ]
  },
  {
   "cell_type": "markdown",
   "metadata": {},
   "source": [
    "___\n",
    "\n",
    "## Making predictions with a trained network\n",
    "\n",
    "The code below is basically a standalone Python script for a function that predicts the language of a name using the recurrent neural network trained in this notebook. The \"script\" imports the GRU model trained above, defines all the functions required to convert a name into a tensor as well as the predict() function to predict the language of a name."
   ]
  },
  {
   "cell_type": "code",
   "execution_count": 3,
   "metadata": {},
   "outputs": [],
   "source": [
    "# Name of saved trained model file\n",
    "filename = \"RNN_Name_Classification_checkpoint.pth\"\n",
    "\n",
    "# Required libraries\n",
    "import os\n",
    "import string\n",
    "import unicodedata\n",
    "import numpy as np\n",
    "import torch\n",
    "import torch.nn as nn\n",
    "\n",
    "# Model and training parameters\n",
    "device = \"cpu\"\n",
    "n_letters = 58\n",
    "n_categories = 18\n",
    "sequence_length = 20\n",
    "input_size = n_letters\n",
    "hidden_size = 128\n",
    "num_layers = 2\n",
    "num_classes = n_categories\n",
    "\n",
    "# Model architecture\n",
    "class RNN_GRU(nn.Module):\n",
    "    def __init__(self, input_size, hidden_size, num_layers, num_classes):\n",
    "        super(RNN_GRU, self).__init__()\n",
    "        self.hidden_size = hidden_size\n",
    "        self.num_layers = num_layers\n",
    "        self.gru = nn.GRU(input_size, hidden_size, num_layers, batch_first=True)\n",
    "        self.fc = nn.Linear(hidden_size, num_classes)  \n",
    "        self.softmax = nn.LogSoftmax(dim=1) ###\n",
    "        \n",
    "    def forward(self, x):\n",
    "        h0 = torch.zeros(self.num_layers, x.size(0), self.hidden_size).to(device)\n",
    "        out, _ = self.gru(x, h0)\n",
    "        out = self.fc(out[:, -1, :])\n",
    "        out = self.softmax(out)\n",
    "        return out\n",
    "\n",
    "# Instantiate model and load state dict into model\n",
    "model = RNN_GRU(input_size, hidden_size, num_layers, num_classes) \n",
    "model.load_state_dict(torch.load(filename))\n",
    "\n",
    "# Functions to convert name to tensor\n",
    "all_letters = string.ascii_letters + \" .,;'-\"\n",
    "all_categories = ['Arabic', 'Chinese', 'Czech', 'Dutch', 'English', 'French',\n",
    "                  'German', 'Greek', 'Irish', 'Italian', 'Japanese', 'Korean', \n",
    "                  'Polish', 'Portuguese', 'Russian', 'Scottish', 'Spanish', 'Vietnamese']\n",
    "\n",
    "def unicode_to_ascii(s):\n",
    "    return \"\".join(\n",
    "        c for c in unicodedata.normalize(\"NFD\", s)\n",
    "        if unicodedata.category(c) != \"Mn\"\n",
    "        and c in all_letters)\n",
    "\n",
    "def letter_to_index(letter):\n",
    "    return all_letters.find(letter)\n",
    "\n",
    "def line_to_tensor(line):\n",
    "    tensor = torch.zeros(len(line), 1, n_letters)\n",
    "    for i, letter in enumerate(line):\n",
    "        tensor[i][0][letter_to_index(letter)] = 1\n",
    "    return tensor\n",
    "\n",
    "# Predictor function\n",
    "def predict(input_line, n_predictions=3):\n",
    "    \n",
    "    input_tensorized = line_to_tensor(unicode_to_ascii(input_line))\n",
    "    num_zeros = sequence_length - len(input_line)\n",
    "    zeros = torch.zeros(num_zeros, 1, n_letters)\n",
    "    input_tensorized = torch.cat((input_tensorized, zeros), dim = 0)\n",
    "    input_tensorized = input_tensorized.permute(1,0,2)\n",
    "    \n",
    "    with torch.no_grad():\n",
    "        output = model(input_tensorized)\n",
    "        output = torch.exp(output)\n",
    "        topv, topi = output.topk(n_predic/tions)\n",
    "\n",
    "    print(\">\", input_line, \"\\nLanguage -- Class Probability\")\n",
    "    for i in range(n_predictions):\n",
    "        value = topv[0][i].item()\n",
    "        category_index = topi[0][i].item()\n",
    "        category = all_categories[category_index]\n",
    "        print(\"{} -- {:.2f}%\".format(category, value*100))     "
   ]
  },
  {
   "cell_type": "code",
   "execution_count": 4,
   "metadata": {},
   "outputs": [
    {
     "name": "stdout",
     "output_type": "stream",
     "text": [
      "> Kim \n",
      "Language -- Class Probability\n",
      "Korean -- 40.86%\n",
      "Vietnamese -- 19.45%\n",
      "Chinese -- 17.71%\n",
      "> Schauer \n",
      "Language -- Class Probability\n",
      "German -- 90.04%\n",
      "Czech -- 9.33%\n",
      "Dutch -- 0.22%\n",
      "> Tateiwa \n",
      "Language -- Class Probability\n",
      "Japanese -- 99.92%\n",
      "Russian -- 0.07%\n",
      "Italian -- 0.00%\n",
      "> Almeida \n",
      "Language -- Class Probability\n",
      "Portuguese -- 76.18%\n",
      "Italian -- 10.66%\n",
      "Spanish -- 5.60%\n",
      "> Aguilera \n",
      "Language -- Class Probability\n",
      "Russian -- 95.88%\n",
      "Spanish -- 3.79%\n",
      "Italian -- 0.21%\n"
     ]
    }
   ],
   "source": [
    "predict(\"Kim\")   # correct\n",
    "predict(\"Schauer\")   # correct\n",
    "predict(\"Tateiwa\")   # correct\n",
    "predict(\"Almeida\")   # correct\n",
    "predict(\"Aguilera\")   # wrong - Spanish"
   ]
  }
 ],
 "metadata": {
  "kernelspec": {
   "display_name": "Python 3",
   "language": "python",
   "name": "python3"
  },
  "language_info": {
   "codemirror_mode": {
    "name": "ipython",
    "version": 3
   },
   "file_extension": ".py",
   "mimetype": "text/x-python",
   "name": "python",
   "nbconvert_exporter": "python",
   "pygments_lexer": "ipython3",
   "version": "3.7.3"
  }
 },
 "nbformat": 4,
 "nbformat_minor": 4
}
